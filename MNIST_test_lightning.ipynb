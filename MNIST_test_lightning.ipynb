{
 "cells": [
  {
   "cell_type": "code",
   "execution_count": 1,
   "metadata": {},
   "outputs": [],
   "source": [
    "import torch\n",
    "from torch import nn\n",
    "from torch import optim\n",
    "from torchvision import datasets, transforms\n",
    "from torch.utils.data import random_split, DataLoader, Subset\n",
    "from torchvision.datasets import MNIST\n",
    "import matplotlib.pyplot as plt"
   ]
  },
  {
   "cell_type": "code",
   "execution_count": 2,
   "metadata": {},
   "outputs": [],
   "source": [
    "from typing import Any\n",
    "import pytorch_lightning as pl\n",
    "from torchmetrics.functional import accuracy\n",
    "\n",
    "class ResNet(pl.LightningModule):\n",
    "    def __init__(self):\n",
    "        super().__init__()\n",
    "        self.l1 = nn.Linear(28 * 28, 64)\n",
    "        self.l2 = nn.Linear(64, 64)\n",
    "        self.l3 = nn.Linear(64, 10)\n",
    "        self.do = nn.Dropout(0.1)\n",
    "\n",
    "        self.loss = nn.CrossEntropyLoss()\n",
    "\n",
    "    def forward(self,x):\n",
    "        h1 = nn.functional.relu(self.l1(x))\n",
    "        h2 = nn.functional.relu(self.l2(h1))\n",
    "        do = self.do(h2 + h1)  #dropout\n",
    "        logits = self.l3(do)\n",
    "        return logits\n",
    "    \n",
    "    def prepare_data(self):\n",
    "        \n",
    "        MNIST('', train = True, download=True)\n",
    "        MNIST('', train = False, download=True)\n",
    "\n",
    "        \n",
    "    def setup(self,stage = None):\n",
    "        # 准备数据集\n",
    "        transform = transforms.ToTensor()\n",
    "        dataset = MNIST('', train=True, transform=transform)\n",
    "        dataset_predict = MNIST('', train=False, transform=transform)\n",
    "        self.train_m, self.val = random_split(dataset, [55000, 5000])\n",
    "\n",
    "        self.mnist_test = MNIST('', train=False, transform=transform)\n",
    "\n",
    "        self.mnist_predict = Subset(dataset_predict, list(range(5)))  #将predict的集合缩减为5个样本\n",
    "    \n",
    "    def train_dataloader(self): \n",
    "        train_loader = DataLoader(self.train_m, batch_size=32)\n",
    "        return train_loader\n",
    "\n",
    "    def val_dataloader(self):\n",
    "        val_loader = DataLoader(self.val, batch_size=32)\n",
    "        return val_loader\n",
    "    \n",
    "    def test_dataloader(self):\n",
    "        return DataLoader(self.mnist_test, batch_size=32)\n",
    "    \n",
    "    def predict_dataloader(self):\n",
    "        return DataLoader(self.mnist_predict, batch_size=1)\n",
    "    \n",
    "    def configure_optimizers(self):\n",
    "        optimizer = optim.SGD(self.parameters(), lr = 1e-2)\n",
    "        return optimizer\n",
    "    \n",
    "    def training_step(self, batch, batch_idx):\n",
    "        x, y = batch  \n",
    "        \n",
    "        #x为图像 batch*1*28*28,y为label.\n",
    "        #将x拉直，batch*(28*28)  \n",
    "        x = x.view(x.size(0),-1)\n",
    "\n",
    "        #1 forward\n",
    "        logit = model(x)\n",
    "        # import pdb; pdb.set_trace()    调试方法，添加断点\n",
    "\n",
    "        #2 compute the objective function\n",
    "        J = self.loss(logit,y)\n",
    "\n",
    "        acc = accuracy(logit.softmax(dim=-1), y, task='multiclass', num_classes=10)\n",
    "        pbar = {'train_acc':acc}\n",
    "\n",
    "        return {'loss': J,'progress_bar':pbar}\n",
    "    \n",
    "\n",
    "    #使用train_step进行验证\n",
    "    def validation_step(self, batch, batch_idx):\n",
    "        results = self.training_step(batch, batch_idx)\n",
    "        self.log('val_loss',results['loss'], prog_bar=True)\n",
    "        self.log('val_acc',results['progress_bar']['train_acc'])\n",
    "        return results\n",
    "    \n",
    "    #在每次循环结束后计算其损失以及准确率\n",
    "    \n",
    "    def on_validation_epoch_end(self):\n",
    "        avg_val_loss = self.trainer.callback_metrics['val_loss'].item()\n",
    "        avg_val_acc = self.trainer.callback_metrics['val_acc'].item()\n",
    "        print(\"Validation epoch ended.\")\n",
    "        \n",
    "        print(f\"Mean validation loss: {avg_val_loss:.4f}\")\n",
    "\n",
    "        print(f\"Mean validation accuracy: {avg_val_acc:.4f}\")\n",
    "\n",
    "    def test_step(self, batch, batch_idx):\n",
    "        results = self.training_step(batch, batch_idx)\n",
    "        results['progress_bar']['test_acc'] = results['progress_bar']['train_acc']\n",
    "        self.log('test_loss',results['loss'], prog_bar=True)\n",
    "        self.log('test_acc',results['progress_bar']['test_acc'])\n",
    "        return results\n",
    "    \n",
    "    def on_test_epoch_end(self):\n",
    "        avg_test_loss = self.trainer.callback_metrics['test_loss'].item()\n",
    "        avg_test_acc = self.trainer.callback_metrics['test_acc'].item()\n",
    "        print(\"test epoch ended.\")\n",
    "        \n",
    "        print(f\"Mean test loss: {avg_test_loss:.4f}\")\n",
    "\n",
    "        print(f\"Mean test accuracy: {avg_test_acc:.4f}\")\n",
    "    \n",
    "    def predict_step(self, batch, batch_idx):\n",
    "        x,_ = batch\n",
    "        logits = self(x.view(-1, 28 * 28))\n",
    "        preds = logits.softmax(dim=-1)\n",
    "        print(f'预测结果：{preds}')\n",
    "        return preds\n",
    "        # self.log('prediction', preds) predict_step中不能使用self.log()函数\n",
    "        \n",
    "    #predict中outouts还是可用的,注意转移到cpu计算。将 CUDA 张量转换为 NumPy 数组时会出现的问题\n",
    "    def on_predict_batch_end(self, outputs,batch, batch_idx):\n",
    "        x,_ = batch\n",
    "        prediction = outputs.cpu().argmax(dim=1)\n",
    "        plt.figure()\n",
    "        plt.imshow(x[0].cpu().view(28, 28))\n",
    "        plt.title(\"    \"+\"prediction: \" +str(int(prediction)))\n",
    "        plt.show()\n",
    "        \n",
    "    \n",
    "    \n",
    "        \n",
    "    \n",
    "model = ResNet()"
   ]
  },
  {
   "cell_type": "code",
   "execution_count": 3,
   "metadata": {},
   "outputs": [
    {
     "name": "stderr",
     "output_type": "stream",
     "text": [
      "GPU available: True (cuda), used: True\n",
      "TPU available: False, using: 0 TPU cores\n",
      "HPU available: False, using: 0 HPUs\n",
      "d:\\learningsoft\\envs\\pytorch_gpu\\lib\\site-packages\\pytorch_lightning\\trainer\\connectors\\logger_connector\\logger_connector.py:75: Starting from v1.9.0, `tensorboardX` has been removed as a dependency of the `pytorch_lightning` package, due to potential conflicts with other packages in the ML ecosystem. For this reason, `logger=True` will use `CSVLogger` as the default logger, unless the `tensorboard` or `tensorboardX` packages are found. Please `pip install lightning[extra]` or one of them to enable TensorBoard support by default\n",
      "You are using a CUDA device ('NVIDIA GeForce RTX 4060 Laptop GPU') that has Tensor Cores. To properly utilize them, you should set `torch.set_float32_matmul_precision('medium' | 'high')` which will trade-off precision for performance. For more details, read https://pytorch.org/docs/stable/generated/torch.set_float32_matmul_precision.html#torch.set_float32_matmul_precision\n",
      "LOCAL_RANK: 0 - CUDA_VISIBLE_DEVICES: [0]\n",
      "\n",
      "  | Name | Type             | Params | Mode \n",
      "--------------------------------------------------\n",
      "0 | l1   | Linear           | 50.2 K | train\n",
      "1 | l2   | Linear           | 4.2 K  | train\n",
      "2 | l3   | Linear           | 650    | train\n",
      "3 | do   | Dropout          | 0      | train\n",
      "4 | loss | CrossEntropyLoss | 0      | train\n",
      "--------------------------------------------------\n",
      "55.1 K    Trainable params\n",
      "0         Non-trainable params\n",
      "55.1 K    Total params\n",
      "0.220     Total estimated model params size (MB)\n"
     ]
    },
    {
     "name": "stdout",
     "output_type": "stream",
     "text": [
      "Sanity Checking DataLoader 0:   0%|          | 0/2 [00:00<?, ?it/s]"
     ]
    },
    {
     "name": "stderr",
     "output_type": "stream",
     "text": [
      "d:\\learningsoft\\envs\\pytorch_gpu\\lib\\site-packages\\pytorch_lightning\\trainer\\connectors\\data_connector.py:424: The 'val_dataloader' does not have many workers which may be a bottleneck. Consider increasing the value of the `num_workers` argument` to `num_workers=17` in the `DataLoader` to improve performance.\n"
     ]
    },
    {
     "name": "stdout",
     "output_type": "stream",
     "text": [
      "Sanity Checking DataLoader 0: 100%|██████████| 2/2 [00:00<00:00, 10.99it/s]Validation epoch ended.\n",
      "Mean validation loss: 2.3230\n",
      "Mean validation accuracy: 0.1562\n",
      "                                                                           \r"
     ]
    },
    {
     "name": "stderr",
     "output_type": "stream",
     "text": [
      "d:\\learningsoft\\envs\\pytorch_gpu\\lib\\site-packages\\pytorch_lightning\\trainer\\connectors\\data_connector.py:424: The 'train_dataloader' does not have many workers which may be a bottleneck. Consider increasing the value of the `num_workers` argument` to `num_workers=17` in the `DataLoader` to improve performance.\n"
     ]
    },
    {
     "name": "stdout",
     "output_type": "stream",
     "text": [
      "Epoch 0: 100%|██████████| 1719/1719 [00:13<00:00, 131.45it/s, v_num=16]Validation epoch ended.\n",
      "Mean validation loss: 0.4007\n",
      "Mean validation accuracy: 0.8876\n",
      "Epoch 1: 100%|██████████| 1719/1719 [00:15<00:00, 111.17it/s, v_num=16, val_loss=0.401]Validation epoch ended.\n",
      "Mean validation loss: 0.3246\n",
      "Mean validation accuracy: 0.9076\n",
      "Epoch 2: 100%|██████████| 1719/1719 [00:13<00:00, 131.82it/s, v_num=16, val_loss=0.325]Validation epoch ended.\n",
      "Mean validation loss: 0.2815\n",
      "Mean validation accuracy: 0.9196\n",
      "Epoch 3: 100%|██████████| 1719/1719 [00:13<00:00, 128.71it/s, v_num=16, val_loss=0.281]Validation epoch ended.\n",
      "Mean validation loss: 0.2496\n",
      "Mean validation accuracy: 0.9272\n",
      "Epoch 4: 100%|██████████| 1719/1719 [00:13<00:00, 126.40it/s, v_num=16, val_loss=0.250]Validation epoch ended.\n",
      "Mean validation loss: 0.2265\n",
      "Mean validation accuracy: 0.9322\n",
      "Epoch 4: 100%|██████████| 1719/1719 [00:14<00:00, 116.96it/s, v_num=16, val_loss=0.226]"
     ]
    },
    {
     "name": "stderr",
     "output_type": "stream",
     "text": [
      "`Trainer.fit` stopped: `max_epochs=5` reached.\n"
     ]
    },
    {
     "name": "stdout",
     "output_type": "stream",
     "text": [
      "Epoch 4: 100%|██████████| 1719/1719 [00:14<00:00, 116.91it/s, v_num=16, val_loss=0.226]\n"
     ]
    },
    {
     "name": "stderr",
     "output_type": "stream",
     "text": [
      "LOCAL_RANK: 0 - CUDA_VISIBLE_DEVICES: [0]\n",
      "d:\\learningsoft\\envs\\pytorch_gpu\\lib\\site-packages\\pytorch_lightning\\trainer\\connectors\\data_connector.py:424: The 'test_dataloader' does not have many workers which may be a bottleneck. Consider increasing the value of the `num_workers` argument` to `num_workers=17` in the `DataLoader` to improve performance.\n"
     ]
    },
    {
     "name": "stdout",
     "output_type": "stream",
     "text": [
      "Testing DataLoader 0: 100%|██████████| 313/313 [00:01<00:00, 179.92it/s]test epoch ended.\n",
      "Mean test loss: 0.1965\n",
      "Mean test accuracy: 0.9415\n",
      "Testing DataLoader 0: 100%|██████████| 313/313 [00:01<00:00, 178.69it/s]\n",
      "────────────────────────────────────────────────────────────────────────────────────────────────────────────────────────\n",
      "       Test metric             DataLoader 0\n",
      "────────────────────────────────────────────────────────────────────────────────────────────────────────────────────────\n",
      "        test_acc            0.9415000081062317\n",
      "        test_loss           0.19652608036994934\n",
      "────────────────────────────────────────────────────────────────────────────────────────────────────────────────────────\n"
     ]
    },
    {
     "name": "stderr",
     "output_type": "stream",
     "text": [
      "LOCAL_RANK: 0 - CUDA_VISIBLE_DEVICES: [0]\n",
      "d:\\learningsoft\\envs\\pytorch_gpu\\lib\\site-packages\\pytorch_lightning\\trainer\\connectors\\data_connector.py:424: The 'predict_dataloader' does not have many workers which may be a bottleneck. Consider increasing the value of the `num_workers` argument` to `num_workers=17` in the `DataLoader` to improve performance.\n"
     ]
    },
    {
     "name": "stdout",
     "output_type": "stream",
     "text": [
      "Predicting DataLoader 0:   0%|          | 0/5 [00:00<?, ?it/s]预测结果：tensor([[6.4732e-04, 7.4420e-07, 1.4797e-03, 3.6956e-03, 2.5584e-07, 4.0831e-04,\n",
      "         9.9397e-08, 9.9329e-01, 1.1003e-05, 4.6262e-04]], device='cuda:0')\n",
      "Predicting DataLoader 0:  20%|██        | 1/5 [00:00<00:00, 16.86it/s]"
     ]
    },
    {
     "data": {
      "image/png": "[encoded data removed]",
      "text/plain": [
       "<Figure size 640x480 with 1 Axes>"
      ]
     },
     "metadata": {},
     "output_type": "display_data"
    },
    {
     "name": "stdout",
     "output_type": "stream",
     "text": [
      "预测结果：tensor([[6.1244e-04, 1.1622e-04, 9.9268e-01, 2.5574e-03, 6.6121e-08, 1.6740e-03,\n",
      "         1.7936e-03, 1.6604e-06, 5.6743e-04, 3.7320e-08]], device='cuda:0')\n",
      "Predicting DataLoader 0:  40%|████      | 2/5 [00:00<00:00, 12.02it/s]"
     ]
    },
    {
     "data": {
      "image/png": "[encoded data removed]",
      "text/plain": [
       "<Figure size 640x480 with 1 Axes>"
      ]
     },
     "metadata": {},
     "output_type": "display_data"
    },
    {
     "name": "stdout",
     "output_type": "stream",
     "text": [
      "预测结果：tensor([[4.0666e-06, 9.8625e-01, 2.8763e-03, 1.2531e-03, 5.2598e-04, 1.7806e-03,\n",
      "         1.4055e-03, 3.1162e-03, 2.6221e-03, 1.6788e-04]], device='cuda:0')\n",
      "Predicting DataLoader 0:  60%|██████    | 3/5 [00:00<00:00, 11.55it/s]"
     ]
    },
    {
     "data": {
      "image/png": "[encoded data removed]",
      "text/plain": [
       "<Figure size 640x480 with 1 Axes>"
      ]
     },
     "metadata": {},
     "output_type": "display_data"
    },
    {
     "name": "stdout",
     "output_type": "stream",
     "text": [
      "预测结果：tensor([[9.9844e-01, 1.7102e-08, 5.7020e-04, 4.7490e-05, 6.9342e-08, 7.7764e-04,\n",
      "         3.2800e-05, 5.2667e-05, 3.5639e-05, 4.1717e-05]], device='cuda:0')\n",
      "Predicting DataLoader 0:  80%|████████  | 4/5 [00:00<00:00, 11.74it/s]"
     ]
    },
    {
     "data": {
      "image/png": "[encoded data removed]",
      "text/plain": [
       "<Figure size 640x480 with 1 Axes>"
      ]
     },
     "metadata": {},
     "output_type": "display_data"
    },
    {
     "name": "stdout",
     "output_type": "stream",
     "text": [
      "预测结果：tensor([[2.3058e-04, 3.8043e-05, 4.6356e-03, 8.7207e-05, 9.4623e-01, 2.4675e-04,\n",
      "         3.9733e-03, 5.8444e-03, 1.3406e-03, 3.7369e-02]], device='cuda:0')\n",
      "Predicting DataLoader 0: 100%|██████████| 5/5 [00:00<00:00, 11.91it/s]"
     ]
    },
    {
     "data": {
      "image/png": "[encoded data removed]",
      "text/plain": [
       "<Figure size 640x480 with 1 Axes>"
      ]
     },
     "metadata": {},
     "output_type": "display_data"
    },
    {
     "name": "stdout",
     "output_type": "stream",
     "text": [
      "Predicting DataLoader 0: 100%|██████████| 5/5 [00:00<00:00,  9.97it/s]\n"
     ]
    },
    {
     "data": {
      "text/plain": [
       "[tensor([[6.4732e-04, 7.4420e-07, 1.4797e-03, 3.6956e-03, 2.5584e-07, 4.0831e-04,\n",
       "          9.9397e-08, 9.9329e-01, 1.1003e-05, 4.6262e-04]]),\n",
       " tensor([[6.1244e-04, 1.1622e-04, 9.9268e-01, 2.5574e-03, 6.6121e-08, 1.6740e-03,\n",
       "          1.7936e-03, 1.6604e-06, 5.6743e-04, 3.7320e-08]]),\n",
       " tensor([[4.0666e-06, 9.8625e-01, 2.8763e-03, 1.2531e-03, 5.2598e-04, 1.7806e-03,\n",
       "          1.4055e-03, 3.1162e-03, 2.6221e-03, 1.6788e-04]]),\n",
       " tensor([[9.9844e-01, 1.7102e-08, 5.7020e-04, 4.7490e-05, 6.9342e-08, 7.7764e-04,\n",
       "          3.2800e-05, 5.2667e-05, 3.5639e-05, 4.1717e-05]]),\n",
       " tensor([[2.3058e-04, 3.8043e-05, 4.6356e-03, 8.7207e-05, 9.4623e-01, 2.4675e-04,\n",
       "          3.9733e-03, 5.8444e-03, 1.3406e-03, 3.7369e-02]])]"
      ]
     },
     "execution_count": 3,
     "metadata": {},
     "output_type": "execute_result"
    }
   ],
   "source": [
    "'''train_data = datasets.MNIST('data', train = True, transform = transforms.ToTensor() )\n",
    "train, val = random_split(dataset=train_data, lengths=[55000, 5000])#55000个训练集和5000个验证集（随机划分）\n",
    "train_loader = DataLoader(train, batch_size=32)\n",
    "val_loader = DataLoader(val, batch_size=32)'''\n",
    "# 检查是否有可用的 GPU\n",
    "if torch.cuda.is_available():\n",
    "    accelerator = 'gpu'\n",
    "    devices = 1  # 你可以指定多个 GPU，例如 devices=2 或 devices=[0,1]\n",
    "else:\n",
    "    accelerator = 'cpu'\n",
    "    devices = 1\n",
    "\n",
    "# 创建 Trainer 并在 GPU 上训练\n",
    "trainer = pl.Trainer(max_epochs=5, accelerator=accelerator, devices=devices)\n",
    "trainer.fit(model)\n",
    "\n",
    "# 在测试集上测试模型\n",
    "trainer.test(model)\n",
    "\n",
    "# 使用模型进行预测\n",
    "trainer.predict(model)\n",
    "\n"
   ]
  }
 ],
 "metadata": {
  "kernelspec": {
   "display_name": "pytorch_cpu",
   "language": "python",
   "name": "python3"
  },
  "language_info": {
   "codemirror_mode": {
    "name": "ipython",
    "version": 3
   },
   "file_extension": ".py",
   "mimetype": "text/x-python",
   "name": "python",
   "nbconvert_exporter": "python",
   "pygments_lexer": "ipython3",
   "version": "3.9.19"
  }
 },
 "nbformat": 4,
 "nbformat_minor": 2
}
