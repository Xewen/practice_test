{
 "cells": [
  {
   "cell_type": "code",
   "execution_count": 31,
   "metadata": {},
   "outputs": [],
   "source": [
    "import torch\n",
    "from torch import nn"
   ]
  },
  {
   "cell_type": "code",
   "execution_count": 32,
   "metadata": {},
   "outputs": [],
   "source": [
    "#定义模型\n",
    "\"\"\"\n",
    "model = nn.Sequential(\n",
    "    nn.Linear(28 * 28, 64),\n",
    "    nn.ReLU(),\n",
    "    nn.Linear(64, 64),\n",
    "    nn.ReLU(),\n",
    "    nn.Dropout(0, 1),\n",
    "    nn.Linear(64, 10),\n",
    ")\"\"\"\n",
    "\n",
    "class ResNet(nn.Module):\n",
    "    def __init__(self):\n",
    "        super().__init__()\n",
    "        self.l1 = nn.Linear(28 * 28, 64)\n",
    "        self.l2 = nn.Linear(64, 64)\n",
    "        self.l3 = nn.Linear(64, 10)\n",
    "        self.do = nn.Dropout(0.1)\n",
    "\n",
    "    def forward(self,x):\n",
    "        h1 = nn.functional.relu(self.l1(x))\n",
    "        h2 = nn.functional.relu(self.l2(h1))\n",
    "        do = self.do(h2 + h1)  #dropout\n",
    "        logits = self.l3(do)\n",
    "        return logits\n",
    "\n",
    "model = ResNet().cuda()"
   ]
  },
  {
   "cell_type": "code",
   "execution_count": 33,
   "metadata": {},
   "outputs": [],
   "source": [
    "#优化器定义\n",
    "from torch import optim\n",
    "optimiser = optim.SGD(model.parameters(), lr = 1e-2)"
   ]
  },
  {
   "cell_type": "code",
   "execution_count": 34,
   "metadata": {},
   "outputs": [],
   "source": [
    "#损失定义\n",
    "loss = nn.CrossEntropyLoss()"
   ]
  },
  {
   "cell_type": "code",
   "execution_count": 35,
   "metadata": {},
   "outputs": [],
   "source": [
    "#load data\n",
    "from torchvision import datasets, transforms\n",
    "from torch.utils.data import random_split, DataLoader\n",
    "train_data = datasets.MNIST('data', train = True, transform = transforms.ToTensor() )\n",
    "train, val = random_split(dataset=train_data, lengths=[55000, 5000])#55000个训练集和5000个验证集（随机划分）\n",
    "train_loader = DataLoader(train, batch_size=32)\n",
    "val_loader = DataLoader(val, batch_size=32)\n"
   ]
  },
  {
   "cell_type": "code",
   "execution_count": 36,
   "metadata": {},
   "outputs": [
    {
     "name": "stdout",
     "output_type": "stream",
     "text": [
      "Epoch 1, train loss: 0.85\n",
      "train accuracy:0.78\n",
      "Epoch 1, val loss: 0.38\n",
      "val accuracy:0.75\n",
      "Epoch 2, train loss: 0.38\n",
      "train accuracy:0.89\n",
      "Epoch 2, val loss: 0.29\n",
      "val accuracy:0.75\n",
      "Epoch 3, train loss: 0.31\n",
      "train accuracy:0.91\n",
      "Epoch 3, val loss: 0.25\n",
      "val accuracy:0.75\n",
      "Epoch 4, train loss: 0.27\n",
      "train accuracy:0.92\n",
      "Epoch 4, val loss: 0.22\n",
      "val accuracy:0.75\n",
      "Epoch 5, train loss: 0.24\n",
      "train accuracy:0.93\n",
      "Epoch 5, val loss: 0.20\n",
      "val accuracy:0.75\n"
     ]
    }
   ],
   "source": [
    "#training loop\n",
    "nb_epochs = 5\n",
    "for epoch in range(nb_epochs):\n",
    "    losses = list()\n",
    "    accuracies = list()\n",
    "    model.train()#dropout\n",
    "    for batch in train_loader:\n",
    "        x,y = batch  \n",
    "        \n",
    "        #x为图像 batch*1*28*28,y为label.\n",
    "        #将x拉直，batch*(28*28)  \n",
    "        x = x.view(x.size(0),-1).cuda()\n",
    "\n",
    "        #1 forward\n",
    "        logit = model(x)\n",
    "        # import pdb; pdb.set_trace()    调试方法，添加断点\n",
    "\n",
    "        #2 compute the objective function\n",
    "        J = loss(logit,y.cuda())\n",
    "\n",
    "        #3 cleaning the gradients\n",
    "        model.zero_grad()\n",
    "        #optimser.zero_grad()也可以\n",
    "\n",
    "        #4 accumulate the partial derivation of j\n",
    "        J.backward()\n",
    "\n",
    "\n",
    "        # 5 step in the oppposite direction of the gradient\n",
    "        optimiser.step()\n",
    "        # with torch.no_grad(): params = params - 学习率*梯度\n",
    "\n",
    "\n",
    "        losses.append(J.item())\n",
    "        accuracies.append(y.cuda().eq(logit.detach().argmax(1)) .float().mean())\n",
    "    print(f'Epoch {epoch + 1}, train loss: {torch. tensor(losses).mean():.2f}')\n",
    "    print(f'train accuracy:{torch.tensor(accuracies).mean():.2f}')\n",
    "    \n",
    "    #valitation loop\n",
    "    model.eval()#dropout\n",
    "    losses = list()\n",
    "    accuracies = list()\n",
    "    for batch in val_loader:\n",
    "        x,y = batch  \n",
    "        \n",
    "        #x为图像 batch*1*28*28,y为label.\n",
    "        #将x拉直，batch*(28*28)  \n",
    "        x = x.view(x.size(0),-1).cuda()\n",
    "\n",
    "        #1 forward\n",
    "        with torch.no_grad():\n",
    "            logit = model(x)  \n",
    "\n",
    "        #2 compute the objective function\n",
    "        J = loss(logit,y.cuda())\n",
    "\n",
    "        losses.append(J.item())\n",
    "    accuracies.append(y.cuda().eq(logit.detach().argmax(1)).cuda().float().mean())\n",
    "    print(f'Epoch {epoch + 1}, val loss: {torch. tensor(losses).mean():.2f}')\n",
    "    print(f'val accuracy:{torch.tensor(accuracies).mean():.2f}')"
   ]
  },
  {
   "cell_type": "code",
   "execution_count": null,
   "metadata": {},
   "outputs": [],
   "source": []
  }
 ],
 "metadata": {
  "kernelspec": {
   "display_name": "pytorch_envi",
   "language": "python",
   "name": "python3"
  },
  "language_info": {
   "codemirror_mode": {
    "name": "ipython",
    "version": 3
   },
   "file_extension": ".py",
   "mimetype": "text/x-python",
   "name": "python",
   "nbconvert_exporter": "python",
   "pygments_lexer": "ipython3",
   "version": "3.9.19"
  }
 },
 "nbformat": 4,
 "nbformat_minor": 2
}
